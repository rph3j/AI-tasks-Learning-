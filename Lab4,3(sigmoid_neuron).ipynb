{
  "nbformat": 4,
  "nbformat_minor": 0,
  "metadata": {
    "colab": {
      "provenance": [],
      "authorship_tag": "ABX9TyOMwC26rddiPJllmOJ3/l7W",
      "include_colab_link": true
    },
    "kernelspec": {
      "name": "python3",
      "display_name": "Python 3"
    },
    "language_info": {
      "name": "python"
    }
  },
  "cells": [
    {
      "cell_type": "markdown",
      "metadata": {
        "id": "view-in-github",
        "colab_type": "text"
      },
      "source": [
        "<a href=\"https://colab.research.google.com/github/rph3j/AI-tasks-Learning-/blob/main/Lab4%2C3(sigmoid_neuron).ipynb\" target=\"_parent\"><img src=\"https://colab.research.google.com/assets/colab-badge.svg\" alt=\"Open In Colab\"/></a>"
      ]
    },
    {
      "cell_type": "markdown",
      "source": [
        "Used libraries\n"
      ],
      "metadata": {
        "id": "YSiqBg1w0ed5"
      }
    },
    {
      "cell_type": "code",
      "execution_count": 1,
      "metadata": {
        "id": "lMGXaaVtEWMQ"
      },
      "outputs": [],
      "source": [
        "import numpy as np\n",
        "import math as mt\n",
        "import matplotlib.pyplot as plt"
      ]
    },
    {
      "cell_type": "markdown",
      "source": [
        "activation function"
      ],
      "metadata": {
        "id": "v5Wm0f6B1McL"
      }
    },
    {
      "cell_type": "code",
      "source": [
        "def f(x):\n",
        "  return (1/(1+mt.e**(-0.5*x)))\n",
        "def fprim(x):\n",
        "  return ((mt.e**-(x/2))/(2*((mt.e**(-x/2)+1)**2)))"
      ],
      "metadata": {
        "id": "1Dob5w9NEmR9"
      },
      "execution_count": 2,
      "outputs": []
    },
    {
      "cell_type": "markdown",
      "source": [
        "Starting data"
      ],
      "metadata": {
        "id": "f9vCPvcX1kRR"
      }
    },
    {
      "cell_type": "code",
      "source": [
        "d1 = 1 #expected value for 1\n",
        "d4 = 0 #expected value for 4\n",
        "x1 = [1,1,-1,1,1,-1,1,1,-1,1,1,-1,1] # coding number 1\n",
        "x4 = [-1,1,-1,-1,-1,-1,1,1,-1,1,1,-1,1] # coding number 4\n",
        "w = [0,0,0,0,0,0,0,0,0,0,0,0,0] # starting weights"
      ],
      "metadata": {
        "id": "rrx4ibJ6EjBO"
      },
      "execution_count": 3,
      "outputs": []
    },
    {
      "cell_type": "markdown",
      "source": [
        "learning loop"
      ],
      "metadata": {
        "id": "KFWstcCB1zZS"
      }
    },
    {
      "cell_type": "code",
      "source": [
        "LossTable = np.array([])\n",
        "for j in range(1000):\n",
        "  s1 = 0\n",
        "  # count sum for number 1\n",
        "  for i in range(13):\n",
        "    s1 = s1 + (x1[i]*w[i])\n",
        "  y1 = f(s1)\n",
        "\n",
        "  E1 = ((d1 - y1)**2)/2 #\n",
        "\n",
        "  # weight change for number 1\n",
        "  for i in range(13):\n",
        "    w[i] = w[i] + 0.8*(d1-y1)*fprim(s1)*x1[i]\n",
        "\n",
        "  s4 = 0\n",
        "  # count sum for number 4\n",
        "  for i in range(13):\n",
        "    s4 = s4 + (x4[i]*w[i])\n",
        "  y4 = f(s4)\n",
        "\n",
        "  E4 = ((d4 - y4)**2)/2 #\n",
        "\n",
        "  # weight change for number 4\n",
        "  for i in range(13):\n",
        "    w[i] = w[i] + 0.8*(d4-y4)*fprim(s4)*x4[i]\n",
        "\n",
        "  Esum = E1 + E4\n",
        "  LossTable = np.append(LossTable,Esum);\n",
        "  #print(Esum)\n",
        "plt.title(\"Loss\")\n",
        "plt.scatter(LossTable,np.arange(1000))\n",
        "plt.show()"
      ],
      "metadata": {
        "colab": {
          "base_uri": "https://localhost:8080/",
          "height": 470
        },
        "id": "o1s4BbCW1x8r",
        "outputId": "8a270bce-b53e-48f2-b89e-6029a8693c29"
      },
      "execution_count": 27,
      "outputs": [
        {
          "output_type": "display_data",
          "data": {
            "text/plain": [
              "<Figure size 640x480 with 1 Axes>"
            ],
            "image/png": "[encoded data removed]"
          },
          "metadata": {}
        }
      ]
    },
    {
      "cell_type": "markdown",
      "source": [
        "Checking results"
      ],
      "metadata": {
        "id": "JApLEv733_5I"
      }
    },
    {
      "cell_type": "code",
      "source": [
        "s1 = 0;\n",
        "for i in range(13):\n",
        "  s1 = s1 + (x1[i]*w[i])\n",
        "\n",
        "s4 = 0;\n",
        "for i in range(13):\n",
        "  s4 = s4 + (x4[i]*w[i])\n",
        "\n",
        "print(f(s1),f(s4))"
      ],
      "metadata": {
        "colab": {
          "base_uri": "https://localhost:8080/"
        },
        "id": "o0PBz2mKM_Ac",
        "outputId": "b2fe1182-cbf5-4819-c7b1-8779fc6cb274"
      },
      "execution_count": 5,
      "outputs": [
        {
          "output_type": "stream",
          "name": "stdout",
          "text": [
            "0.9787367446964977 0.02124484003489084\n"
          ]
        }
      ]
    },
    {
      "cell_type": "markdown",
      "source": [
        "Checking results with wrong number 4"
      ],
      "metadata": {
        "id": "-Sa_qWJn4eio"
      }
    },
    {
      "cell_type": "code",
      "source": [
        "xI = [1,1,-1,1,1,-1,1,-1,-1,1,1,-1,1] # coding number 1\n",
        "xIV = [-1,-1,-1,-1,-1,-1,1,1,-1,1,1,-1,1] # coding number 4\n",
        "s1 = 0;\n",
        "for i in range(13):\n",
        "  s1 = s1 + (xI[i]*w[i])\n",
        "\n",
        "s4 = 0;\n",
        "for i in range(13):\n",
        "  s4 = s4 + (xIV[i]*w[i])\n",
        "\n",
        "print(f(s1),f(s4))"
      ],
      "metadata": {
        "id": "GRmNPijXNWbL",
        "outputId": "678f4221-9427-48f5-c3fe-677a0ee6f63e",
        "colab": {
          "base_uri": "https://localhost:8080/"
        }
      },
      "execution_count": 6,
      "outputs": [
        {
          "output_type": "stream",
          "name": "stdout",
          "text": [
            "0.978738586925847 0.021246680859415425\n"
          ]
        }
      ]
    }
  ]
}